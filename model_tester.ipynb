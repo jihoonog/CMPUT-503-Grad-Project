{
 "cells": [
  {
   "cell_type": "code",
   "execution_count": 1,
   "metadata": {},
   "outputs": [],
   "source": [
    "import numpy as np\n",
    "import cv2\n",
    "import time\n",
    "from packages.number_detection.src.FC import NP_model"
   ]
  },
  {
   "cell_type": "code",
   "execution_count": 2,
   "metadata": {},
   "outputs": [],
   "source": [
    "model_path = 'packages/number_detection/config/model_weights.npy'\n",
    "\n",
    "weight_dict = np.load(model_path, allow_pickle=True).item()\n",
    "\n",
    "model = NP_model(weight_dict)"
   ]
  },
  {
   "cell_type": "code",
   "execution_count": 3,
   "metadata": {},
   "outputs": [],
   "source": [
    "HSV_MASK_LOW = (70,10,180)\n",
    "HSV_MASK_HIGH = (90,200,255)"
   ]
  },
  {
   "cell_type": "code",
   "execution_count": 4,
   "metadata": {},
   "outputs": [],
   "source": [
    "def softmax(x):\n",
    "    e_x = np.exp(x - np.max(x))\n",
    "    return e_x / e_x.sum()"
   ]
  },
  {
   "cell_type": "code",
   "execution_count": 24,
   "metadata": {},
   "outputs": [],
   "source": [
    "\n",
    "def process_image(image):\n",
    "    start_time = time.time()\n",
    "\n",
    "    image_hsv = cv2.cvtColor(image, cv2.COLOR_BGR2HSV)\n",
    "    image_mask = cv2.inRange(image_hsv, HSV_MASK_LOW, HSV_MASK_HIGH)\n",
    "    # opening = cv2.morphologyEx(image_mask, cv2.MORPH_OPEN, np.ones((5,5),np.uint8), iterations = 2)\n",
    "\n",
    "    contours, _ = cv2.findContours(image_mask, cv2.RETR_EXTERNAL, cv2.CHAIN_APPROX_SIMPLE)\n",
    "\n",
    "    if len(contours) == 0:\n",
    "        return image\n",
    "    \n",
    "\n",
    "    c = max(contours, key=cv2.contourArea)\n",
    "\n",
    "    if cv2.contourArea(c) < 10000:\n",
    "        return image\n",
    "\n",
    "    number_bb = cv2.boundingRect(c)\n",
    "    x = int(number_bb[0])\n",
    "    y = int(number_bb[1])\n",
    "    w = int(number_bb[2])\n",
    "    h = int(number_bb[3])\n",
    "\n",
    "    ar = float(w) / float(h)\n",
    "    if ar < 0.66 or ar > 1.33:\n",
    "        return image\n",
    "\n",
    "    padding = int(min(h * 0.10, w * 0.10))\n",
    "\n",
    "    number = image[y + padding:y+h - padding, x + padding:x + w - padding]\n",
    "\n",
    "\n",
    "    black_max = (90,125,125)\n",
    "    black_min = (0,0,0)\n",
    "    number_mask = cv2.inRange(number, black_min, black_max)\n",
    "    number_mask = cv2.resize(number_mask, (28,28))\n",
    "    cv2.imshow(\"number_mask\", number_mask)\n",
    "\n",
    "    input_vector = number_mask.reshape(1, 28 * 28)\n",
    "    res_vector = model.predict(input_vector)\n",
    "    number = np.argmax(res_vector)\n",
    "\n",
    "    end_time = time.time()\n",
    "\n",
    "    duration = (end_time - start_time) * 1000\n",
    "    duration_str = \"{:.3f}\".format(duration) + \" ms\"\n",
    "    \n",
    "\n",
    "    cv2.rectangle(image,(x, y), (x+w, y+h), (0,255,0), 2)\n",
    "    cv2.putText(image, str(number), (x,y - 10), cv2.FONT_HERSHEY_SIMPLEX, 0.9, (255,255,12), 2)\n",
    "    cv2.putText(image, str(duration_str), (x + 30 ,y - 10), cv2.FONT_HERSHEY_SIMPLEX, 0.9, (0, 255,255), 2)\n",
    "\n",
    "    return image\n",
    "\n",
    "    "
   ]
  },
  {
   "cell_type": "code",
   "execution_count": 25,
   "metadata": {},
   "outputs": [],
   "source": [
    "cap = cv2.VideoCapture(0)\n",
    "\n",
    "while True:\n",
    "    ret, frame = cap.read()\n",
    "\n",
    "    processed_image = process_image(frame)\n",
    "\n",
    "    cv2.imshow('Processed image', processed_image)\n",
    "     \n",
    "    if cv2.waitKey(5) & 0xFF == ord('q'):\n",
    "        break\n",
    "\n",
    "cap.release()\n",
    "cv2.destroyAllWindows()"
   ]
  }
 ],
 "metadata": {
  "kernelspec": {
   "display_name": "venv",
   "language": "python",
   "name": "python3"
  },
  "language_info": {
   "codemirror_mode": {
    "name": "ipython",
    "version": 3
   },
   "file_extension": ".py",
   "mimetype": "text/x-python",
   "name": "python",
   "nbconvert_exporter": "python",
   "pygments_lexer": "ipython3",
   "version": "3.10.6"
  },
  "orig_nbformat": 4
 },
 "nbformat": 4,
 "nbformat_minor": 2
}
